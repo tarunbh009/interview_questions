{
 "cells": [
  {
   "cell_type": "markdown",
   "id": "b6d585b5",
   "metadata": {},
   "source": [
    "## Difference between list, tuples, sets and dictionary"
   ]
  },
  {
   "cell_type": "code",
   "execution_count": 30,
   "id": "e17564d9",
   "metadata": {},
   "outputs": [],
   "source": [
    "d='{\"Lists\":{\"0\":\"A list is a collection of ordered data.\",\"1\":\"Lists are mutable.\",\"2\":\"The append() method adds a single item at the end of the list without modifying the original list.\",\"3\":\"Lists are declared with square braces.\",\"4\":\"The pop() method removes the item at the given index from the list and returns it.\",\"5\":\"The sort() method sorts the elements of a given list in a specific ascending or descending order.\",\"6\":\"index() searches for a given element from the start of the list and returns the lowest index where the element appears.\",\"7\":\"The count() method returns the number of times the specified element appears in the list.\",\"8\":\"The reverse() method reverses the elements of the list.\"},\"Tuples\":{\"0\":\"A tuple is an ordered collection of data.\",\"1\":\"Tuples are immutable.\",\"2\":\"An element cannot be added to the tuple as it is immutable.\",\"3\":\"Tuples are enclosed within parenthesis.\",\"4\":\"Tuples are immutable.\",\"5\":\"Though tuples are ordered, the elements cannot be sorted.\",\"6\":\"Searches the tuple for a specified value and returns the position of where it was found.\",\"7\":\"The count() method returns the number of times a specified value occurs in a tuple.\",\"8\":\"The reverse() method is not defined in tuples, as they are unchangeable\"},\"Sets\":{\"0\":\"A set is an unordered collection.\",\"1\":\"Sets are mutable and have no duplicate elements.\",\"2\":\"The set add() method adds a given element to a set.\",\"3\":\"Sets are represented in curly brackets.\",\"4\":\"The pop() method removes a random item from the set.\",\"5\":\"Elements in the set cannot be sorted as they are unordered.\",\"6\":\"The index of a particular element is not retrieved as they are unordered.\",\"7\":\"There are no count() methods in sets as they do not allow any duplicates.\",\"8\":\"The sets are unordered, which refrains from applying the reverse() method\"},\"Dictionaries\":{\"0\":\"A dictionary is an unordered collection of data that stores data in key-value pairs.\",\"1\":\"Dictionaries are mutable and keys do not allow duplicates.\",\"2\":\"The update() method updates the dictionary with the specified key-value pairs\",\"3\":\"Dictionaries are enclosed in curly brackets in the form of key-value pairs.\",\"4\":\"The pop() method removes the specified item from the dictionary.\",\"5\":\"sorted() method is used to sort the keys in the dictionary by default.\",\"6\":\"The get() method returns the value of the item with the specified key.\",\"7\":\"The count() method is not defined in the dictionary.\",\"8\":\"The elements cannot be reversed, as the items in the dictionary are in the form of key-value pairs\"}}'\"\""
   ]
  },
  {
   "cell_type": "code",
   "execution_count": 36,
   "id": "c2de2d96",
   "metadata": {},
   "outputs": [
    {
     "data": {
      "text/html": [
       "<div>\n",
       "<style scoped>\n",
       "    .dataframe tbody tr th:only-of-type {\n",
       "        vertical-align: middle;\n",
       "    }\n",
       "\n",
       "    .dataframe tbody tr th {\n",
       "        vertical-align: top;\n",
       "    }\n",
       "\n",
       "    .dataframe thead th {\n",
       "        text-align: right;\n",
       "    }\n",
       "</style>\n",
       "<table border=\"1\" class=\"dataframe\">\n",
       "  <thead>\n",
       "    <tr style=\"text-align: right;\">\n",
       "      <th></th>\n",
       "      <th>Lists</th>\n",
       "      <th>Tuples</th>\n",
       "      <th>Sets</th>\n",
       "      <th>Dictionaries</th>\n",
       "    </tr>\n",
       "  </thead>\n",
       "  <tbody>\n",
       "    <tr>\n",
       "      <th>0</th>\n",
       "      <td>A list is a collection of ordered data.</td>\n",
       "      <td>A tuple is an ordered collection of data.</td>\n",
       "      <td>A set is an unordered collection.</td>\n",
       "      <td>A dictionary is an unordered collection of dat...</td>\n",
       "    </tr>\n",
       "    <tr>\n",
       "      <th>1</th>\n",
       "      <td>Lists are mutable.</td>\n",
       "      <td>Tuples are immutable.</td>\n",
       "      <td>Sets are mutable and have no duplicate elements.</td>\n",
       "      <td>Dictionaries are mutable and keys do not allow...</td>\n",
       "    </tr>\n",
       "    <tr>\n",
       "      <th>2</th>\n",
       "      <td>The append() method adds a single item at the ...</td>\n",
       "      <td>An element cannot be added to the tuple as it ...</td>\n",
       "      <td>The set add() method adds a given element to a...</td>\n",
       "      <td>The update() method updates the dictionary wit...</td>\n",
       "    </tr>\n",
       "    <tr>\n",
       "      <th>3</th>\n",
       "      <td>Lists are declared with square braces.</td>\n",
       "      <td>Tuples are enclosed within parenthesis.</td>\n",
       "      <td>Sets are represented in curly brackets.</td>\n",
       "      <td>Dictionaries are enclosed in curly brackets in...</td>\n",
       "    </tr>\n",
       "    <tr>\n",
       "      <th>4</th>\n",
       "      <td>The pop() method removes the item at the given...</td>\n",
       "      <td>Tuples are immutable.</td>\n",
       "      <td>The pop() method removes a random item from th...</td>\n",
       "      <td>The pop() method removes the specified item fr...</td>\n",
       "    </tr>\n",
       "    <tr>\n",
       "      <th>5</th>\n",
       "      <td>The sort() method sorts the elements of a give...</td>\n",
       "      <td>Though tuples are ordered, the elements cannot...</td>\n",
       "      <td>Elements in the set cannot be sorted as they a...</td>\n",
       "      <td>sorted() method is used to sort the keys in th...</td>\n",
       "    </tr>\n",
       "    <tr>\n",
       "      <th>6</th>\n",
       "      <td>index() searches for a given element from the ...</td>\n",
       "      <td>Searches the tuple for a specified value and r...</td>\n",
       "      <td>The index of a particular element is not retri...</td>\n",
       "      <td>The get() method returns the value of the item...</td>\n",
       "    </tr>\n",
       "    <tr>\n",
       "      <th>7</th>\n",
       "      <td>The count() method returns the number of times...</td>\n",
       "      <td>The count() method returns the number of times...</td>\n",
       "      <td>There are no count() methods in sets as they d...</td>\n",
       "      <td>The count() method is not defined in the dicti...</td>\n",
       "    </tr>\n",
       "    <tr>\n",
       "      <th>8</th>\n",
       "      <td>The reverse() method reverses the elements of ...</td>\n",
       "      <td>The reverse() method is not defined in tuples,...</td>\n",
       "      <td>The sets are unordered, which refrains from ap...</td>\n",
       "      <td>The elements cannot be reversed, as the items ...</td>\n",
       "    </tr>\n",
       "  </tbody>\n",
       "</table>\n",
       "</div>"
      ],
      "text/plain": [
       "                                               Lists  \\\n",
       "0            A list is a collection of ordered data.   \n",
       "1                                 Lists are mutable.   \n",
       "2  The append() method adds a single item at the ...   \n",
       "3             Lists are declared with square braces.   \n",
       "4  The pop() method removes the item at the given...   \n",
       "5  The sort() method sorts the elements of a give...   \n",
       "6  index() searches for a given element from the ...   \n",
       "7  The count() method returns the number of times...   \n",
       "8  The reverse() method reverses the elements of ...   \n",
       "\n",
       "                                              Tuples  \\\n",
       "0          A tuple is an ordered collection of data.   \n",
       "1                              Tuples are immutable.   \n",
       "2  An element cannot be added to the tuple as it ...   \n",
       "3            Tuples are enclosed within parenthesis.   \n",
       "4                              Tuples are immutable.   \n",
       "5  Though tuples are ordered, the elements cannot...   \n",
       "6  Searches the tuple for a specified value and r...   \n",
       "7  The count() method returns the number of times...   \n",
       "8  The reverse() method is not defined in tuples,...   \n",
       "\n",
       "                                                Sets  \\\n",
       "0                  A set is an unordered collection.   \n",
       "1   Sets are mutable and have no duplicate elements.   \n",
       "2  The set add() method adds a given element to a...   \n",
       "3            Sets are represented in curly brackets.   \n",
       "4  The pop() method removes a random item from th...   \n",
       "5  Elements in the set cannot be sorted as they a...   \n",
       "6  The index of a particular element is not retri...   \n",
       "7  There are no count() methods in sets as they d...   \n",
       "8  The sets are unordered, which refrains from ap...   \n",
       "\n",
       "                                        Dictionaries  \n",
       "0  A dictionary is an unordered collection of dat...  \n",
       "1  Dictionaries are mutable and keys do not allow...  \n",
       "2  The update() method updates the dictionary wit...  \n",
       "3  Dictionaries are enclosed in curly brackets in...  \n",
       "4  The pop() method removes the specified item fr...  \n",
       "5  sorted() method is used to sort the keys in th...  \n",
       "6  The get() method returns the value of the item...  \n",
       "7  The count() method is not defined in the dicti...  \n",
       "8  The elements cannot be reversed, as the items ...  "
      ]
     },
     "execution_count": 36,
     "metadata": {},
     "output_type": "execute_result"
    }
   ],
   "source": [
    "import pandas as pd\n",
    "import json\n",
    "data=json.loads(d)\n",
    "pd.DataFrame(data)"
   ]
  },
  {
   "cell_type": "markdown",
   "id": "07c9bec5",
   "metadata": {},
   "source": [
    "## What is object oriented programming language??"
   ]
  },
  {
   "cell_type": "markdown",
   "id": "ee5816d2",
   "metadata": {},
   "source": [
    "    Object Oriented Programming is a way of computer programming using the idea of “objects” to represents data and methods. It is also, an approach used for creating neat and reusable code instead of a redundant one. the program is divided into self-contained objects or several mini-programs.\n",
    "    \n",
    "    Main Concepts of Object-Oriented Programming (OOPs) \n",
    "    Class\n",
    "    Objects\n",
    "    Polymorphism\n",
    "    Encapsulation\n",
    "    Inheritance\n",
    "    Data Abstraction"
   ]
  },
  {
   "cell_type": "markdown",
   "id": "9406c466",
   "metadata": {},
   "source": [
    "## What is class in python??"
   ]
  },
  {
   "cell_type": "markdown",
   "id": "01c15423",
   "metadata": {},
   "source": [
    "    A class is a userdefined blueprint or prototype from which objects are created\n",
    "    Class creates a user defined datastructure, which holds its own data members and member functions, which can be accessed & used by creating an instance of that class."
   ]
  },
  {
   "cell_type": "markdown",
   "id": "5a59e58f",
   "metadata": {},
   "source": [
    "## What is object in python??"
   ]
  },
  {
   "cell_type": "markdown",
   "id": "45c206b5",
   "metadata": {},
   "source": [
    "    Object is an instance of a class. A class is like a blueprint while object is a copy of a class with actual value."
   ]
  },
  {
   "cell_type": "markdown",
   "id": "2584acec",
   "metadata": {},
   "source": [
    "## Difference between class and function??"
   ]
  },
  {
   "cell_type": "markdown",
   "id": "660214a7",
   "metadata": {},
   "source": [
    "    Class is encapsulation of data under single entity and that data can be variables(called attributes) and functions(called methods), yes a function can be included in a class while class can't be part of function.\n",
    "    We normally call the class or the function(methods) enclosed in them using an object.\n",
    "    \n",
    "    A class is a definition of an object, while function is a piece of code."
   ]
  },
  {
   "cell_type": "markdown",
   "id": "f7600a52",
   "metadata": {},
   "source": [
    "## Difference between method and function??"
   ]
  },
  {
   "cell_type": "markdown",
   "id": "274d063c",
   "metadata": {},
   "source": [
    "    A function is a block of code to carry out a specific task,will contain its own scope & is called by name.\n",
    "    A method is similar to a function except it is associated with object/classes.\n",
    "    The method is implicitly used for an object for which it is called. Method is called by it's name but it is associated to an object.\n",
    "    A method definition always include 'self' as its first parameter."
   ]
  },
  {
   "cell_type": "markdown",
   "id": "9870e48e",
   "metadata": {},
   "source": [
    "## Iterators v/s Iterables"
   ]
  },
  {
   "cell_type": "markdown",
   "id": "a193f12a",
   "metadata": {},
   "source": [
    "    Iterators in python is an object used to iterate over iterable objects like lists, tuples, dict and sets.\n",
    "    The iterator object is initialized using iter() method, It uses the next() method for iteration.\n",
    "    \n",
    "    Iterables is an object which can be looped over or iterated over with the help of a for loop.\n",
    "    Objects likes list, tuples, sets, dictionary, strings etc.\n",
    "    \n",
    "    Iteration the process of iterate anything and fetching its next element is called iteration.\n",
    "    \n",
    "    Generators - It is a function that return a iterator object with sequence of values. We use yiels statement to rturn value from function."
   ]
  },
  {
   "cell_type": "code",
   "execution_count": 6,
   "id": "29ab3c6b",
   "metadata": {},
   "outputs": [],
   "source": [
    "def square(n):\n",
    "    for i in range(n):\n",
    "        return i**2"
   ]
  },
  {
   "cell_type": "code",
   "execution_count": 7,
   "id": "9352bf69",
   "metadata": {},
   "outputs": [
    {
     "data": {
      "text/plain": [
       "0"
      ]
     },
     "execution_count": 7,
     "metadata": {},
     "output_type": "execute_result"
    }
   ],
   "source": [
    "a=square(3)\n",
    "a"
   ]
  },
  {
   "cell_type": "code",
   "execution_count": 9,
   "id": "fed6ae95",
   "metadata": {},
   "outputs": [],
   "source": [
    "def square(n):\n",
    "    for i in range(n):\n",
    "        yield i**2"
   ]
  },
  {
   "cell_type": "code",
   "execution_count": 12,
   "id": "de4d8421",
   "metadata": {},
   "outputs": [],
   "source": [
    "a=square(3)"
   ]
  },
  {
   "cell_type": "code",
   "execution_count": 16,
   "id": "97bd599c",
   "metadata": {},
   "outputs": [
    {
     "name": "stdout",
     "output_type": "stream",
     "text": [
      "0\n",
      "1\n",
      "4\n"
     ]
    }
   ],
   "source": [
    "for i in a:\n",
    "    print(i)"
   ]
  },
  {
   "cell_type": "markdown",
   "id": "051a48ac",
   "metadata": {},
   "source": [
    "## Inheritence"
   ]
  },
  {
   "cell_type": "markdown",
   "id": "b7dfc1bc",
   "metadata": {},
   "source": [
    "    It is the capability of one class to derive or inherit the properties from another class.\n",
    "    The new class is called derived class or child class and whose properties are acquired is known as base class or paren class.\n",
    "    It provides resubality of code."
   ]
  },
  {
   "cell_type": "code",
   "execution_count": 17,
   "id": "96e89767",
   "metadata": {},
   "outputs": [],
   "source": [
    "## Parent class\n",
    "class car():\n",
    "    def __init__(self,windows,doors,enginetype):\n",
    "        self.windows=windows\n",
    "        self.doors=doors\n",
    "        self.enfinetype=enginetype\n",
    "        \n",
    "    def derive(self):\n",
    "        print('The person derives the car')"
   ]
  },
  {
   "cell_type": "code",
   "execution_count": 18,
   "id": "6f18e345",
   "metadata": {},
   "outputs": [],
   "source": [
    "maruti=car(4,5,'Diesel')"
   ]
  },
  {
   "cell_type": "code",
   "execution_count": 23,
   "id": "2371254a",
   "metadata": {},
   "outputs": [],
   "source": [
    "## Child class\n",
    "class audi(car):\n",
    "    def __init__(self,windows,doors,enginetype,enableai):\n",
    "        super().__init__(windows,doors,enginetype)\n",
    "        self.enableai=enableai\n",
    "        \n",
    "    def selfdrive(self):\n",
    "        print('Audi supports self driving')"
   ]
  },
  {
   "cell_type": "code",
   "execution_count": 24,
   "id": "83036767",
   "metadata": {},
   "outputs": [],
   "source": [
    "audiq7=audi(3,6,'Petrol','Yes')"
   ]
  },
  {
   "cell_type": "code",
   "execution_count": 29,
   "id": "e1c87aa2",
   "metadata": {},
   "outputs": [
    {
     "data": {
      "text/plain": [
       "3"
      ]
     },
     "execution_count": 29,
     "metadata": {},
     "output_type": "execute_result"
    }
   ],
   "source": [
    "audiq7.windows"
   ]
  },
  {
   "cell_type": "markdown",
   "id": "05c09be8",
   "metadata": {},
   "source": [
    "## Multiple inheritence"
   ]
  },
  {
   "cell_type": "markdown",
   "id": "d5cb1bbb",
   "metadata": {},
   "source": [
    "    When a class is derived from more than one base class it is called multiple inheritence."
   ]
  },
  {
   "cell_type": "code",
   "execution_count": 32,
   "id": "ced24200",
   "metadata": {},
   "outputs": [],
   "source": [
    "class A:\n",
    "    def method(self):\n",
    "        print(\"A class method is called\")\n",
    "        \n",
    "class B(A):\n",
    "    def method(self):\n",
    "        print(\"B class method is called\")\n",
    "        \n",
    "    def method2(self):\n",
    "        print(\"B class method2 is called\")\n",
    "        \n",
    "class C(A):\n",
    "    def method1(self):\n",
    "        print(\"C class method is called\")\n",
    "        \n",
    "class D(B,C):\n",
    "    def method1(self):\n",
    "        print(\"D class method is called\")"
   ]
  },
  {
   "cell_type": "code",
   "execution_count": 33,
   "id": "e3bd4d0b",
   "metadata": {},
   "outputs": [],
   "source": [
    "d=D()"
   ]
  },
  {
   "cell_type": "code",
   "execution_count": 34,
   "id": "57e93795",
   "metadata": {},
   "outputs": [
    {
     "name": "stdout",
     "output_type": "stream",
     "text": [
      "B class method2 is called\n"
     ]
    }
   ],
   "source": [
    "d.method2()"
   ]
  },
  {
   "cell_type": "markdown",
   "id": "6122b363",
   "metadata": {},
   "source": [
    "## Polymorphism"
   ]
  },
  {
   "cell_type": "markdown",
   "id": "dbeda40b",
   "metadata": {},
   "source": [
    "    If a variable, object or method perform different behaviour according to situation, it is called polymorphism.\n",
    "    - Duck Typing\n",
    "    - Operator Overloading\n",
    "    - Method Overloading\n",
    "    - Method Overriding"
   ]
  },
  {
   "cell_type": "markdown",
   "id": "d5199b5f",
   "metadata": {},
   "source": [
    "## Operator Overloading"
   ]
  },
  {
   "cell_type": "markdown",
   "id": "6bcb3f8f",
   "metadata": {},
   "source": [
    "    If any operator performs additional action other than what it is meant for , it is called operator overloading"
   ]
  },
  {
   "cell_type": "code",
   "execution_count": 3,
   "id": "a67c082f",
   "metadata": {},
   "outputs": [
    {
     "name": "stdout",
     "output_type": "stream",
     "text": [
      "30\n",
      "HelloWorld\n"
     ]
    }
   ],
   "source": [
    "print(10+20) # when we add integer below method is called\n",
    "int.__add__(10,20)"
   ]
  },
  {
   "cell_type": "code",
   "execution_count": 4,
   "id": "1e282b2d",
   "metadata": {},
   "outputs": [
    {
     "name": "stdout",
     "output_type": "stream",
     "text": [
      "HelloWorld\n"
     ]
    }
   ],
   "source": [
    "print('Hello'+'World')"
   ]
  },
  {
   "cell_type": "code",
   "execution_count": 5,
   "id": "25ae007a",
   "metadata": {},
   "outputs": [],
   "source": [
    "def test(a,b):\n",
    "    return(a+b)"
   ]
  },
  {
   "cell_type": "code",
   "execution_count": 9,
   "id": "ebc6f941",
   "metadata": {},
   "outputs": [
    {
     "data": {
      "text/plain": [
       "7"
      ]
     },
     "execution_count": 9,
     "metadata": {},
     "output_type": "execute_result"
    }
   ],
   "source": [
    "test(3,4)"
   ]
  },
  {
   "cell_type": "code",
   "execution_count": 10,
   "id": "28953f8e",
   "metadata": {},
   "outputs": [
    {
     "data": {
      "text/plain": [
       "'sudhkumar'"
      ]
     },
     "execution_count": 10,
     "metadata": {},
     "output_type": "execute_result"
    }
   ],
   "source": [
    "test('sudh','kumar')"
   ]
  },
  {
   "cell_type": "markdown",
   "id": "1e5ac8d9",
   "metadata": {},
   "source": [
    "## Method Overloading"
   ]
  },
  {
   "cell_type": "markdown",
   "id": "2f14abdf",
   "metadata": {},
   "source": [
    "    If a method is written such that it can perform more than one task, it is called method overloading.\n",
    "    We achieve method overloading by writing same method with several parameters."
   ]
  },
  {
   "cell_type": "code",
   "execution_count": 5,
   "id": "4a20882b",
   "metadata": {},
   "outputs": [],
   "source": [
    "class Myclass:\n",
    "    def add(self,a=None,b=None,c=None):\n",
    "        if a!=None and b!=None and c!=None:\n",
    "            s = a+b+c\n",
    "        elif a!=None and b!=None:\n",
    "            s=a+b\n",
    "        else:\n",
    "            s=a\n",
    "        return s    "
   ]
  },
  {
   "cell_type": "code",
   "execution_count": 6,
   "id": "4229f70c",
   "metadata": {},
   "outputs": [],
   "source": [
    "obj=Myclass()"
   ]
  },
  {
   "cell_type": "code",
   "execution_count": 7,
   "id": "97394bff",
   "metadata": {},
   "outputs": [
    {
     "data": {
      "text/plain": [
       "6"
      ]
     },
     "execution_count": 7,
     "metadata": {},
     "output_type": "execute_result"
    }
   ],
   "source": [
    "obj.add(1,2,3)"
   ]
  },
  {
   "cell_type": "code",
   "execution_count": 9,
   "id": "32ce278a",
   "metadata": {},
   "outputs": [
    {
     "data": {
      "text/plain": [
       "7"
      ]
     },
     "execution_count": 9,
     "metadata": {},
     "output_type": "execute_result"
    }
   ],
   "source": [
    "obj.add(2,5)"
   ]
  },
  {
   "cell_type": "markdown",
   "id": "10cd35f5",
   "metadata": {},
   "source": [
    "## Method Overriding"
   ]
  },
  {
   "cell_type": "markdown",
   "id": "712ce647",
   "metadata": {},
   "source": [
    "    If we write method in both classes, parent and child class, then parent class method is not available to child class.\n",
    "    In this case only child class method is available which means child class method is replacing parent class method"
   ]
  },
  {
   "cell_type": "code",
   "execution_count": 33,
   "id": "18e7ed21",
   "metadata": {},
   "outputs": [
    {
     "name": "stdout",
     "output_type": "stream",
     "text": [
      "Multiplication: 200\n"
     ]
    }
   ],
   "source": [
    "class Add:\n",
    "    def result(self,a,b):\n",
    "        print('Addition:',a+b)\n",
    "        \n",
    "class Multi(Add):\n",
    "    def result(self,a,b):\n",
    "        print('Multiplication:',a*b)\n",
    "        \n",
    "m=Multi()\n",
    "m.result(10,20)"
   ]
  },
  {
   "cell_type": "markdown",
   "id": "674208e6",
   "metadata": {},
   "source": [
    "    super() method is used to call parent class constructor or member from the child class."
   ]
  },
  {
   "cell_type": "code",
   "execution_count": 35,
   "id": "7e9d0315",
   "metadata": {},
   "outputs": [],
   "source": [
    "class Add:\n",
    "    def result(self,a,b):\n",
    "        print('Addition:',a+b)\n",
    "        \n",
    "class Multi(Add):\n",
    "    def result(self,a,b):\n",
    "        super().result(30,40)\n",
    "        print('Multiplication:',a*b)"
   ]
  },
  {
   "cell_type": "code",
   "execution_count": 36,
   "id": "2307823e",
   "metadata": {},
   "outputs": [
    {
     "name": "stdout",
     "output_type": "stream",
     "text": [
      "Addition: 70\n",
      "Multiplication: 200\n"
     ]
    }
   ],
   "source": [
    "m=Multi()\n",
    "m.result(10,20)"
   ]
  },
  {
   "cell_type": "markdown",
   "id": "70ff9a5e",
   "metadata": {},
   "source": [
    "## Duck Typing"
   ]
  },
  {
   "cell_type": "markdown",
   "id": "cb0cb648",
   "metadata": {},
   "source": [
    "    Duck typing concept related to dynamic typing, where the type or the class of an object is less important than the methods it defines.\n",
    "    When you use duck typing, you do not check types at all. Instead you check for presence of a given method or attribute."
   ]
  },
  {
   "cell_type": "code",
   "execution_count": 11,
   "id": "e298ff21",
   "metadata": {},
   "outputs": [],
   "source": [
    "class Duck:\n",
    "    def sound(self):\n",
    "        print(\"Quack Quack\")\n",
    "        \n",
    "class Dog:\n",
    "    def sound(self):\n",
    "        print(\"Woof Woof\")\n",
    "        \n",
    "class Cat:\n",
    "    def sound(self):\n",
    "        print(\"Meow Meow\")        \n",
    "        \n",
    "def All_Sounds(obj):\n",
    "    obj.sound()"
   ]
  },
  {
   "cell_type": "code",
   "execution_count": 17,
   "id": "3294b8b4",
   "metadata": {},
   "outputs": [
    {
     "name": "stdout",
     "output_type": "stream",
     "text": [
      "Quack Quack\n"
     ]
    }
   ],
   "source": [
    "x=Duck()\n",
    "x.sound()"
   ]
  },
  {
   "cell_type": "code",
   "execution_count": 18,
   "id": "cf157d94",
   "metadata": {},
   "outputs": [
    {
     "name": "stdout",
     "output_type": "stream",
     "text": [
      "Woof Woof\n"
     ]
    }
   ],
   "source": [
    "x=Dog()\n",
    "x.sound()"
   ]
  },
  {
   "cell_type": "markdown",
   "id": "df962cd3",
   "metadata": {},
   "source": [
    "## Difference between docstring and comment in python"
   ]
  },
  {
   "cell_type": "markdown",
   "id": "1827addd",
   "metadata": {},
   "source": [
    "    comments are coherent statements that describes what a piece of code means.\n",
    "    comments are generally omitted by the interpreter so we can not see comments in output.\n",
    "    In Python, we can write comments using the hash (#) character."
   ]
  },
  {
   "cell_type": "markdown",
   "id": "b2e00ee3",
   "metadata": {},
   "source": [
    "    Docstrings are used to define a function.\n",
    "    They are represented by \"\"\"docstring\"\"\"\n",
    "    docstrings are not omitted by interpreter.\n",
    "    docstrings are position dependent i.e when placed in different positions the output will be different.\n",
    "    We can access docstring using either the __doc__ attribute or\n",
    "    help() function."
   ]
  },
  {
   "cell_type": "code",
   "execution_count": 1,
   "id": "4486a718",
   "metadata": {},
   "outputs": [
    {
     "data": {
      "text/plain": [
       "'docstring'"
      ]
     },
     "execution_count": 1,
     "metadata": {},
     "output_type": "execute_result"
    }
   ],
   "source": [
    "# only docstring output will be doc string\n",
    "\"\"\"docstring\"\"\""
   ]
  },
  {
   "cell_type": "code",
   "execution_count": 1,
   "id": "bc54bada",
   "metadata": {},
   "outputs": [],
   "source": [
    "# docstring and then code output will be code only.\n",
    "# code and then docstring then output will be both\n",
    "'''addition'''\n",
    "def add(a,b):\n",
    "    return a+b"
   ]
  },
  {
   "cell_type": "code",
   "execution_count": 5,
   "id": "ee2817c4",
   "metadata": {},
   "outputs": [],
   "source": [
    "def add(a,b):\n",
    "    '''addition'''\n",
    "    return a+b"
   ]
  },
  {
   "cell_type": "code",
   "execution_count": 6,
   "id": "62b6a8fe",
   "metadata": {},
   "outputs": [
    {
     "name": "stdout",
     "output_type": "stream",
     "text": [
      "Help on function add in module __main__:\n",
      "\n",
      "add(a, b)\n",
      "    addition\n",
      "\n"
     ]
    }
   ],
   "source": [
    "help(add)"
   ]
  },
  {
   "cell_type": "code",
   "execution_count": 7,
   "id": "b6c8b2e5",
   "metadata": {},
   "outputs": [
    {
     "name": "stdout",
     "output_type": "stream",
     "text": [
      "addition\n"
     ]
    }
   ],
   "source": [
    "print(add.__doc__)"
   ]
  },
  {
   "cell_type": "markdown",
   "id": "9cd713cf",
   "metadata": {},
   "source": [
    "## Decorators\n",
    "    A decorator in Python is a function that takes another function as its argument, and returns yet another function . Decorators can be extremely useful as they allow the extension of an existing function, without any modification to the original function source code."
   ]
  },
  {
   "cell_type": "code",
   "execution_count": 47,
   "id": "e9ba9b55",
   "metadata": {},
   "outputs": [],
   "source": [
    "def main_welcome(x):\n",
    "    def sub_welcome():\n",
    "        print(\"Welcome to youtube\")\n",
    "        x()\n",
    "        print(\"please Subscribe\")\n",
    "    return sub_welcome "
   ]
  },
  {
   "cell_type": "code",
   "execution_count": 48,
   "id": "387d2b14",
   "metadata": {},
   "outputs": [],
   "source": [
    "def channel_name():\n",
    "    print(\"This is my channel\")"
   ]
  },
  {
   "cell_type": "code",
   "execution_count": 49,
   "id": "e8dd2d54",
   "metadata": {},
   "outputs": [],
   "source": [
    "a=main_welcome(channel_name)"
   ]
  },
  {
   "cell_type": "code",
   "execution_count": 50,
   "id": "817dcede",
   "metadata": {},
   "outputs": [
    {
     "name": "stdout",
     "output_type": "stream",
     "text": [
      "Welcome to youtube\n",
      "This is my channel\n",
      "please Subscribe\n"
     ]
    }
   ],
   "source": [
    "a()"
   ]
  },
  {
   "cell_type": "code",
   "execution_count": 51,
   "id": "59040c50",
   "metadata": {},
   "outputs": [],
   "source": [
    "@main_welcome\n",
    "def channel_type():\n",
    "    print(\"This is programming channel\")"
   ]
  },
  {
   "cell_type": "code",
   "execution_count": 53,
   "id": "0e8491d6",
   "metadata": {
    "scrolled": true
   },
   "outputs": [
    {
     "name": "stdout",
     "output_type": "stream",
     "text": [
      "Welcome to youtube\n",
      "This is programming channel\n",
      "please Subscribe\n"
     ]
    }
   ],
   "source": [
    "channel_type()"
   ]
  },
  {
   "cell_type": "markdown",
   "id": "a856f3aa",
   "metadata": {},
   "source": [
    "## Abstract Class\n",
    "An abstract class can be considered as a blueprint for other classes. It allows you to create a set of methods that must be created within any child classes built from the abstract class. A class which contains one or more abstract methods is called an abstract class."
   ]
  },
  {
   "cell_type": "code",
   "execution_count": 1,
   "id": "97b9e44f",
   "metadata": {},
   "outputs": [],
   "source": [
    "from abc import ABC, abstractmethod"
   ]
  },
  {
   "cell_type": "code",
   "execution_count": 58,
   "id": "593d0f8c",
   "metadata": {},
   "outputs": [],
   "source": [
    "class Polygon(ABC):\n",
    "\n",
    "    @abstractmethod   # creating abstract method for other classes\n",
    "    def noofsides(self):\n",
    "        pass\n",
    "\n",
    "class Triangle(Polygon):\n",
    "\n",
    "\n",
    "    def noofsides(self):\n",
    "        print(\"I have 3 sides\")"
   ]
  },
  {
   "cell_type": "code",
   "execution_count": 59,
   "id": "74701053",
   "metadata": {},
   "outputs": [
    {
     "name": "stdout",
     "output_type": "stream",
     "text": [
      "I have 3 sides\n"
     ]
    }
   ],
   "source": [
    "Triangle().noofsides()"
   ]
  },
  {
   "cell_type": "markdown",
   "id": "2aa0f407",
   "metadata": {},
   "source": [
    "    If i dont write noofsides method in Triangle class then it will give error"
   ]
  },
  {
   "cell_type": "code",
   "execution_count": 3,
   "id": "f912b70c",
   "metadata": {},
   "outputs": [],
   "source": [
    "class Polygon(ABC):\n",
    "\n",
    "    @abstractmethod   # creating abstract method for other classes\n",
    "    def noofsides(self):\n",
    "        pass\n",
    "\n",
    "class Triangle(Polygon):\n",
    "    \n",
    "    def shape(self):\n",
    "        print(\"I am a Triangle\")"
   ]
  },
  {
   "cell_type": "code",
   "execution_count": 4,
   "id": "ebca1a79",
   "metadata": {},
   "outputs": [
    {
     "ename": "TypeError",
     "evalue": "Can't instantiate abstract class Triangle with abstract method noofsides",
     "output_type": "error",
     "traceback": [
      "\u001b[1;31m---------------------------------------------------------------------------\u001b[0m",
      "\u001b[1;31mTypeError\u001b[0m                                 Traceback (most recent call last)",
      "\u001b[1;32m~\\AppData\\Local\\Temp/ipykernel_13684/3467864289.py\u001b[0m in \u001b[0;36m<module>\u001b[1;34m\u001b[0m\n\u001b[1;32m----> 1\u001b[1;33m \u001b[0mTriangle\u001b[0m\u001b[1;33m(\u001b[0m\u001b[1;33m)\u001b[0m\u001b[1;33m.\u001b[0m\u001b[0mshape\u001b[0m\u001b[1;33m(\u001b[0m\u001b[1;33m)\u001b[0m\u001b[1;33m\u001b[0m\u001b[1;33m\u001b[0m\u001b[0m\n\u001b[0m",
      "\u001b[1;31mTypeError\u001b[0m: Can't instantiate abstract class Triangle with abstract method noofsides"
     ]
    }
   ],
   "source": [
    "Triangle().shape()"
   ]
  },
  {
   "cell_type": "code",
   "execution_count": null,
   "id": "cd8e9fdc",
   "metadata": {},
   "outputs": [],
   "source": []
  }
 ],
 "metadata": {
  "kernelspec": {
   "display_name": "Python 3 (ipykernel)",
   "language": "python",
   "name": "python3"
  },
  "language_info": {
   "codemirror_mode": {
    "name": "ipython",
    "version": 3
   },
   "file_extension": ".py",
   "mimetype": "text/x-python",
   "name": "python",
   "nbconvert_exporter": "python",
   "pygments_lexer": "ipython3",
   "version": "3.9.7"
  }
 },
 "nbformat": 4,
 "nbformat_minor": 5
}
